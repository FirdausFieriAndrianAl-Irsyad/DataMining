{
  "nbformat": 4,
  "nbformat_minor": 0,
  "metadata": {
    "colab": {
      "name": "Untitled0.ipynb",
      "provenance": [],
      "authorship_tag": "ABX9TyOYMaBTRQyo7CcK+Zl67U+Z",
      "include_colab_link": true
    },
    "kernelspec": {
      "name": "python3",
      "display_name": "Python 3"
    },
    "language_info": {
      "name": "python"
    }
  },
  "cells": [
    {
      "cell_type": "markdown",
      "metadata": {
        "id": "view-in-github",
        "colab_type": "text"
      },
      "source": [
        "<a href=\"https://colab.research.google.com/github/FirdausFieriAndrianAl-Irsyad/DataMining/blob/main/PreProcessingData.ipynb\" target=\"_parent\"><img src=\"https://colab.research.google.com/assets/colab-badge.svg\" alt=\"Open In Colab\"/></a>"
      ]
    },
    {
      "cell_type": "code",
      "execution_count": 15,
      "metadata": {
        "id": "K8_LwicjvIza"
      },
      "outputs": [],
      "source": [
        "import numpy as np\n",
        "import matplotlib.pyplot as plt\n",
        "import pandas as pd"
      ]
    },
    {
      "cell_type": "code",
      "source": [
        "dataset = pd.read_csv('dataelek.csv')\n",
        "x = dataset.iloc[:, :-1].values\n",
        "y = dataset.iloc[:, -1].values"
      ],
      "metadata": {
        "id": "P28ZQPUbvsIp"
      },
      "execution_count": 16,
      "outputs": []
    },
    {
      "cell_type": "code",
      "source": [
        "print(x)"
      ],
      "metadata": {
        "colab": {
          "base_uri": "https://localhost:8080/"
        },
        "id": "iDx5MbwywFKd",
        "outputId": "e74380db-352a-452d-ba30-11d9f40da549"
      },
      "execution_count": 17,
      "outputs": [
        {
          "output_type": "stream",
          "name": "stdout",
          "text": [
            "[['Lampu' 4.0 32000.0]\n",
            " ['Senter' 2.0 24000.0]\n",
            " ['Kabel' 1.0 5000.0]\n",
            " ['Kipas Angin' 2.0 360000.0]\n",
            " ['Penanak Nasi' nan 300000.0]\n",
            " ['Hair Dryer' 1.0 150000.0]\n",
            " ['Penyedot Debu' 1.0 nan]\n",
            " ['Raket Listrik' 2.0 120000.0]\n",
            " ['Stop Kontak' 3.0 15000.0]]\n"
          ]
        }
      ]
    },
    {
      "cell_type": "code",
      "source": [
        "print(y)"
      ],
      "metadata": {
        "colab": {
          "base_uri": "https://localhost:8080/"
        },
        "id": "7bJPxvhmwJOM",
        "outputId": "7cbb9575-adf6-4c7f-955b-be31c39d3575"
      },
      "execution_count": 18,
      "outputs": [
        {
          "output_type": "stream",
          "name": "stdout",
          "text": [
            "['yes' 'no' 'yes' 'yes' 'no' 'yes' 'no' 'yes' 'yes']\n"
          ]
        }
      ]
    },
    {
      "cell_type": "code",
      "source": [
        "from sklearn.impute import SimpleImputer\n",
        "imputer = SimpleImputer(missing_values=np.nan, strategy='mean')\n",
        "imputer.fit(x[:, 1:3])\n",
        "x[:, 1:3] = imputer.transform(x[:, 1:3])"
      ],
      "metadata": {
        "id": "1QIlMWWCwNk1"
      },
      "execution_count": 19,
      "outputs": []
    },
    {
      "cell_type": "code",
      "source": [
        "print(x)"
      ],
      "metadata": {
        "colab": {
          "base_uri": "https://localhost:8080/"
        },
        "id": "AhUlpbJ1wlgd",
        "outputId": "670be9a6-ccc9-4aba-ad8d-7df3d6b16afb"
      },
      "execution_count": 20,
      "outputs": [
        {
          "output_type": "stream",
          "name": "stdout",
          "text": [
            "[['Lampu' 4.0 32000.0]\n",
            " ['Senter' 2.0 24000.0]\n",
            " ['Kabel' 1.0 5000.0]\n",
            " ['Kipas Angin' 2.0 360000.0]\n",
            " ['Penanak Nasi' 2.0 300000.0]\n",
            " ['Hair Dryer' 1.0 150000.0]\n",
            " ['Penyedot Debu' 1.0 125750.0]\n",
            " ['Raket Listrik' 2.0 120000.0]\n",
            " ['Stop Kontak' 3.0 15000.0]]\n"
          ]
        }
      ]
    },
    {
      "cell_type": "code",
      "source": [
        "from sklearn.compose import ColumnTransformer\n",
        "from sklearn.preprocessing import OneHotEncoder\n",
        "ct = ColumnTransformer(transformers=[('encoder', OneHotEncoder(), [0])], remainder='passthrough')\n",
        "x = ct.fit_transform(x).toarray()"
      ],
      "metadata": {
        "id": "wsykXJ3Wwn4E"
      },
      "execution_count": 21,
      "outputs": []
    },
    {
      "cell_type": "code",
      "source": [
        "print(x)"
      ],
      "metadata": {
        "colab": {
          "base_uri": "https://localhost:8080/"
        },
        "id": "QQzS71-RxOGN",
        "outputId": "5c827531-9a76-4729-a72b-ec41f64cad8d"
      },
      "execution_count": 22,
      "outputs": [
        {
          "output_type": "stream",
          "name": "stdout",
          "text": [
            "[[0.0000e+00 0.0000e+00 0.0000e+00 1.0000e+00 0.0000e+00 0.0000e+00\n",
            "  0.0000e+00 0.0000e+00 0.0000e+00 4.0000e+00 3.2000e+04]\n",
            " [0.0000e+00 0.0000e+00 0.0000e+00 0.0000e+00 0.0000e+00 0.0000e+00\n",
            "  0.0000e+00 1.0000e+00 0.0000e+00 2.0000e+00 2.4000e+04]\n",
            " [0.0000e+00 1.0000e+00 0.0000e+00 0.0000e+00 0.0000e+00 0.0000e+00\n",
            "  0.0000e+00 0.0000e+00 0.0000e+00 1.0000e+00 5.0000e+03]\n",
            " [0.0000e+00 0.0000e+00 1.0000e+00 0.0000e+00 0.0000e+00 0.0000e+00\n",
            "  0.0000e+00 0.0000e+00 0.0000e+00 2.0000e+00 3.6000e+05]\n",
            " [0.0000e+00 0.0000e+00 0.0000e+00 0.0000e+00 1.0000e+00 0.0000e+00\n",
            "  0.0000e+00 0.0000e+00 0.0000e+00 2.0000e+00 3.0000e+05]\n",
            " [1.0000e+00 0.0000e+00 0.0000e+00 0.0000e+00 0.0000e+00 0.0000e+00\n",
            "  0.0000e+00 0.0000e+00 0.0000e+00 1.0000e+00 1.5000e+05]\n",
            " [0.0000e+00 0.0000e+00 0.0000e+00 0.0000e+00 0.0000e+00 1.0000e+00\n",
            "  0.0000e+00 0.0000e+00 0.0000e+00 1.0000e+00 1.2575e+05]\n",
            " [0.0000e+00 0.0000e+00 0.0000e+00 0.0000e+00 0.0000e+00 0.0000e+00\n",
            "  1.0000e+00 0.0000e+00 0.0000e+00 2.0000e+00 1.2000e+05]\n",
            " [0.0000e+00 0.0000e+00 0.0000e+00 0.0000e+00 0.0000e+00 0.0000e+00\n",
            "  0.0000e+00 0.0000e+00 1.0000e+00 3.0000e+00 1.5000e+04]]\n"
          ]
        }
      ]
    },
    {
      "cell_type": "code",
      "source": [
        "from operator import le\n",
        "from sklearn.preprocessing import LabelEncoder\n",
        "le = LabelEncoder()\n",
        "y = le.fit_transform(y)"
      ],
      "metadata": {
        "id": "dzYrr3k-xQMc"
      },
      "execution_count": 23,
      "outputs": []
    },
    {
      "cell_type": "code",
      "source": [
        "print(y)"
      ],
      "metadata": {
        "colab": {
          "base_uri": "https://localhost:8080/"
        },
        "id": "n2lALhtixZpe",
        "outputId": "89b1ef17-5699-4703-9b68-6203c16a01ea"
      },
      "execution_count": 24,
      "outputs": [
        {
          "output_type": "stream",
          "name": "stdout",
          "text": [
            "[1 0 1 1 0 1 0 1 1]\n"
          ]
        }
      ]
    },
    {
      "cell_type": "code",
      "source": [
        "from sklearn.model_selection import train_test_split\n",
        "x_train, x_test, y_train, y_test, = train_test_split(x, y, test_size = 0.2, random_state = 1)"
      ],
      "metadata": {
        "id": "bGswB3Faxble"
      },
      "execution_count": 25,
      "outputs": []
    },
    {
      "cell_type": "code",
      "source": [
        "print(x_train)"
      ],
      "metadata": {
        "colab": {
          "base_uri": "https://localhost:8080/"
        },
        "id": "P-aEh9QKxc8P",
        "outputId": "2835d8cf-501c-469a-9042-1c92288b1ca6"
      },
      "execution_count": 26,
      "outputs": [
        {
          "output_type": "stream",
          "name": "stdout",
          "text": [
            "[[0.0000e+00 0.0000e+00 0.0000e+00 0.0000e+00 0.0000e+00 1.0000e+00\n",
            "  0.0000e+00 0.0000e+00 0.0000e+00 1.0000e+00 1.2575e+05]\n",
            " [0.0000e+00 0.0000e+00 0.0000e+00 0.0000e+00 0.0000e+00 0.0000e+00\n",
            "  1.0000e+00 0.0000e+00 0.0000e+00 2.0000e+00 1.2000e+05]\n",
            " [0.0000e+00 0.0000e+00 0.0000e+00 0.0000e+00 0.0000e+00 0.0000e+00\n",
            "  0.0000e+00 1.0000e+00 0.0000e+00 2.0000e+00 2.4000e+04]\n",
            " [0.0000e+00 0.0000e+00 0.0000e+00 1.0000e+00 0.0000e+00 0.0000e+00\n",
            "  0.0000e+00 0.0000e+00 0.0000e+00 4.0000e+00 3.2000e+04]\n",
            " [0.0000e+00 0.0000e+00 0.0000e+00 0.0000e+00 1.0000e+00 0.0000e+00\n",
            "  0.0000e+00 0.0000e+00 0.0000e+00 2.0000e+00 3.0000e+05]\n",
            " [0.0000e+00 0.0000e+00 1.0000e+00 0.0000e+00 0.0000e+00 0.0000e+00\n",
            "  0.0000e+00 0.0000e+00 0.0000e+00 2.0000e+00 3.6000e+05]\n",
            " [1.0000e+00 0.0000e+00 0.0000e+00 0.0000e+00 0.0000e+00 0.0000e+00\n",
            "  0.0000e+00 0.0000e+00 0.0000e+00 1.0000e+00 1.5000e+05]]\n"
          ]
        }
      ]
    },
    {
      "cell_type": "code",
      "source": [
        "print(x_test)"
      ],
      "metadata": {
        "colab": {
          "base_uri": "https://localhost:8080/"
        },
        "id": "My9rDHpFxic2",
        "outputId": "a4d3df93-8672-41e1-d59e-48e8df4c5871"
      },
      "execution_count": 27,
      "outputs": [
        {
          "output_type": "stream",
          "name": "stdout",
          "text": [
            "[[0.0e+00 0.0e+00 0.0e+00 0.0e+00 0.0e+00 0.0e+00 0.0e+00 0.0e+00 1.0e+00\n",
            "  3.0e+00 1.5e+04]\n",
            " [0.0e+00 1.0e+00 0.0e+00 0.0e+00 0.0e+00 0.0e+00 0.0e+00 0.0e+00 0.0e+00\n",
            "  1.0e+00 5.0e+03]]\n"
          ]
        }
      ]
    },
    {
      "cell_type": "code",
      "source": [
        "print(y_train)"
      ],
      "metadata": {
        "colab": {
          "base_uri": "https://localhost:8080/"
        },
        "id": "s5D4MN0uxk6k",
        "outputId": "74ad0f56-2cac-4aa2-d494-d7fa5abf2098"
      },
      "execution_count": 28,
      "outputs": [
        {
          "output_type": "stream",
          "name": "stdout",
          "text": [
            "[0 1 0 1 0 1 1]\n"
          ]
        }
      ]
    },
    {
      "cell_type": "code",
      "source": [
        "print(y_test)"
      ],
      "metadata": {
        "colab": {
          "base_uri": "https://localhost:8080/"
        },
        "id": "E2VRevZWxmpk",
        "outputId": "be0234a4-821d-486f-92e1-083dab915216"
      },
      "execution_count": 29,
      "outputs": [
        {
          "output_type": "stream",
          "name": "stdout",
          "text": [
            "[1 1]\n"
          ]
        }
      ]
    },
    {
      "cell_type": "code",
      "source": [
        "from sklearn.preprocessing import StandardScaler\n",
        "sc = StandardScaler()\n",
        "x_train[:, 3:] = sc.fit_transform(x_train[:, 3:])\n",
        "x_test[:, 3:] = sc.transform(x_test[:, 3:])"
      ],
      "metadata": {
        "id": "-9L9OsT_xosa"
      },
      "execution_count": 30,
      "outputs": []
    },
    {
      "cell_type": "code",
      "source": [
        "print(x_train)"
      ],
      "metadata": {
        "colab": {
          "base_uri": "https://localhost:8080/"
        },
        "id": "SNJZnoR9xsj_",
        "outputId": "667031bf-37a9-4673-c6bf-9e098d3e5bd4"
      },
      "execution_count": 31,
      "outputs": [
        {
          "output_type": "stream",
          "name": "stdout",
          "text": [
            "[[ 0.          0.          0.         -0.40824829 -0.40824829  2.44948974\n",
            "  -0.40824829 -0.40824829  0.         -1.08012345 -0.28044575]\n",
            " [ 0.          0.          0.         -0.40824829 -0.40824829 -0.40824829\n",
            "   2.44948974 -0.40824829  0.          0.         -0.32920575]\n",
            " [ 0.          0.          0.         -0.40824829 -0.40824829 -0.40824829\n",
            "  -0.40824829  2.44948974  0.          0.         -1.14328584]\n",
            " [ 0.          0.          0.          2.44948974 -0.40824829 -0.40824829\n",
            "  -0.40824829 -0.40824829  0.          2.1602469  -1.07544583]\n",
            " [ 0.          0.          0.         -0.40824829  2.44948974 -0.40824829\n",
            "  -0.40824829 -0.40824829  0.          0.          1.19719442]\n",
            " [ 0.          0.          1.         -0.40824829 -0.40824829 -0.40824829\n",
            "  -0.40824829 -0.40824829  0.          0.          1.70599447]\n",
            " [ 1.          0.          0.         -0.40824829 -0.40824829 -0.40824829\n",
            "  -0.40824829 -0.40824829  0.         -1.08012345 -0.07480572]]\n"
          ]
        }
      ]
    },
    {
      "cell_type": "code",
      "source": [
        "print(x_test)"
      ],
      "metadata": {
        "colab": {
          "base_uri": "https://localhost:8080/"
        },
        "id": "6_hfDtWsxuMV",
        "outputId": "8455fe9a-dade-4b40-9548-842aab7ad25a"
      },
      "execution_count": 32,
      "outputs": [
        {
          "output_type": "stream",
          "name": "stdout",
          "text": [
            "[[ 0.          0.          0.         -0.40824829 -0.40824829 -0.40824829\n",
            "  -0.40824829 -0.40824829  1.          1.08012345 -1.21960585]\n",
            " [ 0.          1.          0.         -0.40824829 -0.40824829 -0.40824829\n",
            "  -0.40824829 -0.40824829  0.         -1.08012345 -1.30440586]]\n"
          ]
        }
      ]
    }
  ]
}